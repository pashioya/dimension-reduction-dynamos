{
 "cells": [
  {
   "cell_type": "markdown",
   "source": [
    "## Imports"
   ],
   "metadata": {
    "collapsed": false
   },
   "id": "52e5b10255fb1f4f"
  },
  {
   "cell_type": "code",
   "execution_count": 1,
   "outputs": [],
   "source": [
    "from sklearn.preprocessing import LabelEncoder\n",
    "from mca import MCA\n",
    "import pandas as pd\n",
    "import matplotlib.pyplot as plt"
   ],
   "metadata": {
    "collapsed": false,
    "ExecuteTime": {
     "end_time": "2024-01-03T17:12:13.684664800Z",
     "start_time": "2024-01-03T17:12:13.530416800Z"
    }
   },
   "id": "8af3bb9a308e9a37"
  },
  {
   "cell_type": "markdown",
   "source": [
    "## Principal component analysis (PCA)\n",
    "\n",
    "We dont have enough numerical columns to use PCA, so we will use MCA instead."
   ],
   "metadata": {
    "collapsed": false
   },
   "id": "4aff388528e9928a"
  },
  {
   "cell_type": "markdown",
   "source": [
    "## Multiple correspondence analysis (MCA)"
   ],
   "metadata": {
    "collapsed": false
   },
   "id": "bee471d707cc95ce"
  },
  {
   "cell_type": "code",
   "execution_count": 2,
   "outputs": [
    {
     "data": {
      "text/plain": "   from_airport_code  dest_airport_code  aircraft_type  airline_number  \\\n0                 25                 54           4228             120   \n1                 14                  3           6662             120   \n2                 28                 62           4726              94   \n3                  6                 59           7836             120   \n4                 21                  7           6175             120   \n\n   airline_name  duration  stops   price  \n0          3487      2960      3  7255.0  \n1          3727       940      1   917.0  \n2          3633       670      2   502.0  \n3          2694      1998      2  3222.0  \n4          1450      1685      2  1363.0  ",
      "text/html": "<div>\n<style scoped>\n    .dataframe tbody tr th:only-of-type {\n        vertical-align: middle;\n    }\n\n    .dataframe tbody tr th {\n        vertical-align: top;\n    }\n\n    .dataframe thead th {\n        text-align: right;\n    }\n</style>\n<table border=\"1\" class=\"dataframe\">\n  <thead>\n    <tr style=\"text-align: right;\">\n      <th></th>\n      <th>from_airport_code</th>\n      <th>dest_airport_code</th>\n      <th>aircraft_type</th>\n      <th>airline_number</th>\n      <th>airline_name</th>\n      <th>duration</th>\n      <th>stops</th>\n      <th>price</th>\n    </tr>\n  </thead>\n  <tbody>\n    <tr>\n      <th>0</th>\n      <td>25</td>\n      <td>54</td>\n      <td>4228</td>\n      <td>120</td>\n      <td>3487</td>\n      <td>2960</td>\n      <td>3</td>\n      <td>7255.0</td>\n    </tr>\n    <tr>\n      <th>1</th>\n      <td>14</td>\n      <td>3</td>\n      <td>6662</td>\n      <td>120</td>\n      <td>3727</td>\n      <td>940</td>\n      <td>1</td>\n      <td>917.0</td>\n    </tr>\n    <tr>\n      <th>2</th>\n      <td>28</td>\n      <td>62</td>\n      <td>4726</td>\n      <td>94</td>\n      <td>3633</td>\n      <td>670</td>\n      <td>2</td>\n      <td>502.0</td>\n    </tr>\n    <tr>\n      <th>3</th>\n      <td>6</td>\n      <td>59</td>\n      <td>7836</td>\n      <td>120</td>\n      <td>2694</td>\n      <td>1998</td>\n      <td>2</td>\n      <td>3222.0</td>\n    </tr>\n    <tr>\n      <th>4</th>\n      <td>21</td>\n      <td>7</td>\n      <td>6175</td>\n      <td>120</td>\n      <td>1450</td>\n      <td>1685</td>\n      <td>2</td>\n      <td>1363.0</td>\n    </tr>\n  </tbody>\n</table>\n</div>"
     },
     "execution_count": 2,
     "metadata": {},
     "output_type": "execute_result"
    }
   ],
   "source": [
    "df = pd.read_csv('../data/processedData/deleted_na.csv')\n",
    "df.head()"
   ],
   "metadata": {
    "collapsed": false,
    "ExecuteTime": {
     "end_time": "2024-01-03T17:12:13.738978900Z",
     "start_time": "2024-01-03T17:12:13.685665Z"
    }
   },
   "id": "323bd786e190d0a2"
  },
  {
   "cell_type": "code",
   "execution_count": 4,
   "id": "initial_id",
   "metadata": {
    "collapsed": true,
    "ExecuteTime": {
     "end_time": "2024-01-03T17:12:30.348763700Z",
     "start_time": "2024-01-03T17:12:30.304374600Z"
    }
   },
   "outputs": [
    {
     "ename": "MemoryError",
     "evalue": "Unable to allocate 18.4 GiB for an array with shape (49733, 49733) and data type float64",
     "output_type": "error",
     "traceback": [
      "\u001B[1;31m---------------------------------------------------------------------------\u001B[0m",
      "\u001B[1;31mMemoryError\u001B[0m                               Traceback (most recent call last)",
      "Cell \u001B[1;32mIn[4], line 2\u001B[0m\n\u001B[0;32m      1\u001B[0m \u001B[38;5;66;03m# Assuming 'data_encoded' is your DataFrame with encoded categorical features\u001B[39;00m\n\u001B[1;32m----> 2\u001B[0m mca_model \u001B[38;5;241m=\u001B[39m \u001B[43mMCA\u001B[49m\u001B[43m(\u001B[49m\u001B[43mdf\u001B[49m\u001B[43m[\u001B[49m\u001B[43m[\u001B[49m\u001B[38;5;124;43m'\u001B[39;49m\u001B[38;5;124;43mfrom_airport_code\u001B[39;49m\u001B[38;5;124;43m'\u001B[39;49m\u001B[43m,\u001B[49m\u001B[43m \u001B[49m\u001B[38;5;124;43m'\u001B[39;49m\u001B[38;5;124;43mdest_airport_code\u001B[39;49m\u001B[38;5;124;43m'\u001B[39;49m\u001B[43m,\u001B[49m\u001B[43m \u001B[49m\u001B[38;5;124;43m'\u001B[39;49m\u001B[38;5;124;43maircraft_type\u001B[39;49m\u001B[38;5;124;43m'\u001B[39;49m\u001B[43m,\u001B[49m\u001B[43m \u001B[49m\u001B[38;5;124;43m'\u001B[39;49m\u001B[38;5;124;43mairline_number\u001B[39;49m\u001B[38;5;124;43m'\u001B[39;49m\u001B[43m,\u001B[49m\u001B[43m \u001B[49m\u001B[38;5;124;43m'\u001B[39;49m\u001B[38;5;124;43mstops\u001B[39;49m\u001B[38;5;124;43m'\u001B[39;49m\u001B[43m,\u001B[49m\u001B[43m \u001B[49m\u001B[38;5;124;43m'\u001B[39;49m\u001B[38;5;124;43mairline_name\u001B[39;49m\u001B[38;5;124;43m'\u001B[39;49m\u001B[43m]\u001B[49m\u001B[43m]\u001B[49m\u001B[43m,\u001B[49m\u001B[43m \u001B[49m\u001B[43mbenzecri\u001B[49m\u001B[38;5;241;43m=\u001B[39;49m\u001B[38;5;28;43;01mFalse\u001B[39;49;00m\u001B[43m,\u001B[49m\u001B[43m \u001B[49m\u001B[43mTOL\u001B[49m\u001B[38;5;241;43m=\u001B[39;49m\u001B[38;5;241;43m1e-4\u001B[39;49m\u001B[43m)\u001B[49m\n\u001B[0;32m      4\u001B[0m \u001B[38;5;66;03m# Access the results, including coordinates for rows and columns\u001B[39;00m\n\u001B[0;32m      5\u001B[0m row_coordinates \u001B[38;5;241m=\u001B[39m mca_model\u001B[38;5;241m.\u001B[39mfs_r(N\u001B[38;5;241m=\u001B[39m\u001B[38;5;241m2\u001B[39m)  \u001B[38;5;66;03m# Row coordinates for the first 3 dimensions\u001B[39;00m\n",
      "File \u001B[1;32m~\\PycharmProjects\\dimension-reduction-dynamos\\venv\\Lib\\site-packages\\mca.py:66\u001B[0m, in \u001B[0;36mMCA.__init__\u001B[1;34m(self, DF, cols, ncols, benzecri, TOL, sparse, approximate)\u001B[0m\n\u001B[0;32m     63\u001B[0m \u001B[38;5;28mself\u001B[39m\u001B[38;5;241m.\u001B[39mcor \u001B[38;5;241m=\u001B[39m benzecri\n\u001B[0;32m     65\u001B[0m eps \u001B[38;5;241m=\u001B[39m finfo(\u001B[38;5;28mfloat\u001B[39m)\u001B[38;5;241m.\u001B[39meps\n\u001B[1;32m---> 66\u001B[0m \u001B[38;5;28mself\u001B[39m\u001B[38;5;241m.\u001B[39mD_r \u001B[38;5;241m=\u001B[39m \u001B[43m(\u001B[49m\u001B[43mdiags\u001B[49m\u001B[43m \u001B[49m\u001B[38;5;28;43;01mif\u001B[39;49;00m\u001B[43m \u001B[49m\u001B[43msparse\u001B[49m\u001B[43m \u001B[49m\u001B[38;5;28;43;01melse\u001B[39;49;00m\u001B[43m \u001B[49m\u001B[43mdiag\u001B[49m\u001B[43m)\u001B[49m\u001B[43m(\u001B[49m\u001B[38;5;241;43m1\u001B[39;49m\u001B[38;5;241;43m/\u001B[39;49m\u001B[43m(\u001B[49m\u001B[43meps\u001B[49m\u001B[43m \u001B[49m\u001B[38;5;241;43m+\u001B[39;49m\u001B[43m \u001B[49m\u001B[43msqrt\u001B[49m\u001B[43m(\u001B[49m\u001B[38;5;28;43mself\u001B[39;49m\u001B[38;5;241;43m.\u001B[39;49m\u001B[43mr\u001B[49m\u001B[43m)\u001B[49m\u001B[43m)\u001B[49m\u001B[43m)\u001B[49m\n\u001B[0;32m     67\u001B[0m \u001B[38;5;28mself\u001B[39m\u001B[38;5;241m.\u001B[39mD_c \u001B[38;5;241m=\u001B[39m diag(\u001B[38;5;241m1\u001B[39m\u001B[38;5;241m/\u001B[39m(eps \u001B[38;5;241m+\u001B[39m sqrt(\u001B[38;5;28mself\u001B[39m\u001B[38;5;241m.\u001B[39mc)))  \u001B[38;5;66;03m# can't use diags here\u001B[39;00m\n\u001B[0;32m     68\u001B[0m Z_c \u001B[38;5;241m=\u001B[39m Z \u001B[38;5;241m-\u001B[39m outer(\u001B[38;5;28mself\u001B[39m\u001B[38;5;241m.\u001B[39mr, \u001B[38;5;28mself\u001B[39m\u001B[38;5;241m.\u001B[39mc)  \u001B[38;5;66;03m# standardized residuals matrix\u001B[39;00m\n",
      "File \u001B[1;32m~\\PycharmProjects\\dimension-reduction-dynamos\\venv\\Lib\\site-packages\\numpy\\lib\\twodim_base.py:293\u001B[0m, in \u001B[0;36mdiag\u001B[1;34m(v, k)\u001B[0m\n\u001B[0;32m    291\u001B[0m \u001B[38;5;28;01mif\u001B[39;00m \u001B[38;5;28mlen\u001B[39m(s) \u001B[38;5;241m==\u001B[39m \u001B[38;5;241m1\u001B[39m:\n\u001B[0;32m    292\u001B[0m     n \u001B[38;5;241m=\u001B[39m s[\u001B[38;5;241m0\u001B[39m]\u001B[38;5;241m+\u001B[39m\u001B[38;5;28mabs\u001B[39m(k)\n\u001B[1;32m--> 293\u001B[0m     res \u001B[38;5;241m=\u001B[39m \u001B[43mzeros\u001B[49m\u001B[43m(\u001B[49m\u001B[43m(\u001B[49m\u001B[43mn\u001B[49m\u001B[43m,\u001B[49m\u001B[43m \u001B[49m\u001B[43mn\u001B[49m\u001B[43m)\u001B[49m\u001B[43m,\u001B[49m\u001B[43m \u001B[49m\u001B[43mv\u001B[49m\u001B[38;5;241;43m.\u001B[39;49m\u001B[43mdtype\u001B[49m\u001B[43m)\u001B[49m\n\u001B[0;32m    294\u001B[0m     \u001B[38;5;28;01mif\u001B[39;00m k \u001B[38;5;241m>\u001B[39m\u001B[38;5;241m=\u001B[39m \u001B[38;5;241m0\u001B[39m:\n\u001B[0;32m    295\u001B[0m         i \u001B[38;5;241m=\u001B[39m k\n",
      "\u001B[1;31mMemoryError\u001B[0m: Unable to allocate 18.4 GiB for an array with shape (49733, 49733) and data type float64"
     ]
    }
   ],
   "source": [
    "# Assuming 'data_encoded' is your DataFrame with encoded categorical features\n",
    "mca_model = MCA(df[['from_airport_code', 'dest_airport_code', 'aircraft_type', 'airline_number', 'stops', 'airline_name']], benzecri=False, TOL=1e-4)\n",
    "\n",
    "# Access the results, including coordinates for rows and columns\n",
    "row_coordinates = mca_model.fs_r(N=2)  # Row coordinates for the first 3 dimensions\n",
    "column_coordinates = mca_model.fs_c(N=2)  # Column coordinates for the first 3 dimensions\n",
    "explained_variance = mca_model.expl_var(greenacre=False)\n",
    "\n",
    "print(row_coordinates, column_coordinates, explained_variance)"
   ]
  },
  {
   "cell_type": "code",
   "execution_count": null,
   "outputs": [],
   "source": [
    "# Assuming 'data_encoded' is the original DataFrame with encoded categorical features\n",
    "fig = plt.figure(figsize=(10, 8))\n",
    "ax = fig.add_subplot(111)\n",
    "\n",
    "# Adjusting the third dimension (z) in the scatter plot\n",
    "ax.scatter(row_coordinates[:, 0], row_coordinates[:, 1], c=df['stops'], cmap='viridis')\n",
    "\n",
    "ax.set_title('MCA Row Coordinates with Color by Category')\n",
    "ax.set_xlabel('Dimension 1')\n",
    "ax.set_ylabel('Dimension 2')\n",
    "ax.legend(title='stops')\n",
    "\n",
    "plt.show()"
   ],
   "metadata": {
    "collapsed": false,
    "ExecuteTime": {
     "end_time": "2024-01-03T17:12:14.573446700Z",
     "start_time": "2024-01-03T17:12:14.563555200Z"
    }
   },
   "id": "36d3afd3dbe04b30"
  },
  {
   "cell_type": "markdown",
   "source": [
    "We saw through experimentation that the categorical data are not that correlated individually, it is when we combine them that we get a better correlation. We will therefore combine the categorical data into one column."
   ],
   "metadata": {
    "collapsed": false
   },
   "id": "7121c4c9e0c2615f"
  }
 ],
 "metadata": {
  "kernelspec": {
   "display_name": "Python 3",
   "language": "python",
   "name": "python3"
  },
  "language_info": {
   "codemirror_mode": {
    "name": "ipython",
    "version": 2
   },
   "file_extension": ".py",
   "mimetype": "text/x-python",
   "name": "python",
   "nbconvert_exporter": "python",
   "pygments_lexer": "ipython2",
   "version": "2.7.6"
  }
 },
 "nbformat": 4,
 "nbformat_minor": 5
}
