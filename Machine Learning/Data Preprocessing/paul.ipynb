{
 "cells": [
  {
   "cell_type": "code",
   "execution_count": 22,
   "id": "751071c33ee62782",
   "metadata": {
    "ExecuteTime": {
     "end_time": "2023-10-19T17:21:28.685746Z",
     "start_time": "2023-10-19T17:21:28.632536Z"
    },
    "collapsed": false
   },
   "outputs": [],
   "source": [
    "import pandas as pd\n",
    "import os\n",
    "\n",
    "data = pd.read_csv('../data/FlightData.csv')\n"
   ]
  },
  {
   "cell_type": "code",
   "execution_count": 23,
   "id": "fc9f4821decfab47",
   "metadata": {
    "ExecuteTime": {
     "end_time": "2023-10-19T17:19:36.686824Z",
     "start_time": "2023-10-19T17:19:36.665527Z"
    },
    "collapsed": false
   },
   "outputs": [
    {
     "name": "stdout",
     "output_type": "stream",
     "text": [
      "Copied 6000 random rows from ../data/FlightData.csv to ../data/ReducedFlightData.csv\n"
     ]
    }
   ],
   "source": [
    "import random\n",
    "import csv\n",
    "\n",
    "input_file_path = '../data/FlightData.csv'\n",
    "reduced_flight_data_path = '../data/ReducedFlightData.csv'\n",
    "\n",
    "os.remove(reduced_flight_data_path)\n",
    "\n",
    "# create a file named 'ReduceFlightData.csv' in the same folder as this script\n",
    "os.makedirs(os.path.dirname(reduced_flight_data_path), exist_ok=True)\n",
    "\n",
    "\n",
    "rows_to_copy = 6000\n",
    "\n",
    "with open(input_file_path, 'r') as input_file, open(reduced_flight_data_path, 'w', newline='') as output_file:\n",
    "    csv_reader = csv.reader(input_file)\n",
    "    csv_writer = csv.writer(output_file)\n",
    "\n",
    "    header = next(csv_reader)\n",
    "    csv_writer.writerow(header)\n",
    "\n",
    "    all_rows = list(csv_reader)\n",
    "\n",
    "\n",
    "    rows_to_copy = min(rows_to_copy, len(all_rows))\n",
    "\n",
    "    random_rows = random.sample(all_rows, rows_to_copy)\n",
    "    for row in random_rows:\n",
    "        csv_writer.writerow(row)\n",
    "\n",
    "print(f'Copied {rows_to_copy} random rows from {input_file_path} to {reduced_flight_data_path}')\n",
    "\n"
   ]
  },
  {
   "cell_type": "code",
   "execution_count": 24,
   "id": "2f3e601b",
   "metadata": {},
   "outputs": [
    {
     "name": "stdout",
     "output_type": "stream",
     "text": [
      "<class 'pandas.core.frame.DataFrame'>\n",
      "RangeIndex: 6000 entries, 0 to 5999\n",
      "Data columns (total 18 columns):\n",
      " #   Column                           Non-Null Count  Dtype  \n",
      "---  ------                           --------------  -----  \n",
      " 0   from_airport_code                6000 non-null   object \n",
      " 1   from_country                     6000 non-null   object \n",
      " 2   dest_airport_code                6000 non-null   object \n",
      " 3   dest_country                     6000 non-null   object \n",
      " 4   aircraft_type                    5907 non-null   object \n",
      " 5   airline_number                   6000 non-null   object \n",
      " 6   airline_name                     6000 non-null   object \n",
      " 7   flight_number                    6000 non-null   object \n",
      " 8   departure_time                   6000 non-null   object \n",
      " 9   arrival_time                     6000 non-null   object \n",
      " 10  duration                         6000 non-null   int64  \n",
      " 11  stops                            6000 non-null   int64  \n",
      " 12  price                            5996 non-null   float64\n",
      " 13  currency                         6000 non-null   object \n",
      " 14  co2_emissions                    5964 non-null   float64\n",
      " 15  avg_co2_emission_for_this_route  5449 non-null   float64\n",
      " 16  co2_percentage                   5449 non-null   object \n",
      " 17  scan_date                        6000 non-null   object \n",
      "dtypes: float64(3), int64(2), object(13)\n",
      "memory usage: 843.9+ KB\n"
     ]
    }
   ],
   "source": [
    "data = pd.read_csv('../data/ReducedFlightData.csv')\n",
    "\n",
    "data.info()\n"
   ]
  },
  {
   "cell_type": "code",
   "execution_count": 25,
   "id": "f5f9e696",
   "metadata": {},
   "outputs": [],
   "source": [
    "# Handle missing values on the 'aircraft_type' column\n",
    "\n",
    "# Method 1: Delete rows with missing values on this column\n",
    "\n",
    "data = data.dropna(subset=['aircraft_type'])"
   ]
  },
  {
   "cell_type": "code",
   "execution_count": 26,
   "id": "159744de",
   "metadata": {},
   "outputs": [],
   "source": [
    "# Handle missing values on the 'price' column\n",
    "\n",
    "# Method 1: Delete rows with missing values on this column\n",
    "data = data.dropna(subset=['price'])"
   ]
  },
  {
   "cell_type": "code",
   "execution_count": 27,
   "id": "44bfb040",
   "metadata": {},
   "outputs": [],
   "source": [
    "# Handle missing values on the 'co2_emissions' column\n",
    "\n",
    "# Method 1: Delete rows with missing values on this column\n",
    "data = data.dropna(subset=['co2_emissions'])"
   ]
  },
  {
   "cell_type": "code",
   "execution_count": 28,
   "id": "618c2a18",
   "metadata": {},
   "outputs": [],
   "source": [
    "# Handle missing values on the 'avg_co2_emission_for_this_route' column\n",
    "\n",
    "# Method 1: Delete rows with missing values on this column\n",
    "data = data.dropna(subset=['avg_co2_emission_for_this_route'])\n"
   ]
  },
  {
   "cell_type": "code",
   "execution_count": 29,
   "id": "7e4b6eed",
   "metadata": {},
   "outputs": [],
   "source": [
    "# Handle missing values on the 'co2_percentage' column\n",
    "\n",
    "# Method 1: Delete rows with missing values on this column\n",
    "data = data.dropna(subset=['co2_percentage'])"
   ]
  },
  {
   "cell_type": "code",
   "execution_count": 30,
   "id": "c9e381b3",
   "metadata": {},
   "outputs": [
    {
     "name": "stdout",
     "output_type": "stream",
     "text": [
      "<class 'pandas.core.frame.DataFrame'>\n",
      "Index: 5324 entries, 0 to 5999\n",
      "Data columns (total 18 columns):\n",
      " #   Column                           Non-Null Count  Dtype  \n",
      "---  ------                           --------------  -----  \n",
      " 0   from_airport_code                5324 non-null   object \n",
      " 1   from_country                     5324 non-null   object \n",
      " 2   dest_airport_code                5324 non-null   object \n",
      " 3   dest_country                     5324 non-null   object \n",
      " 4   aircraft_type                    5324 non-null   object \n",
      " 5   airline_number                   5324 non-null   object \n",
      " 6   airline_name                     5324 non-null   object \n",
      " 7   flight_number                    5324 non-null   object \n",
      " 8   departure_time                   5324 non-null   object \n",
      " 9   arrival_time                     5324 non-null   object \n",
      " 10  duration                         5324 non-null   int64  \n",
      " 11  stops                            5324 non-null   int64  \n",
      " 12  price                            5324 non-null   float64\n",
      " 13  currency                         5324 non-null   object \n",
      " 14  co2_emissions                    5324 non-null   float64\n",
      " 15  avg_co2_emission_for_this_route  5324 non-null   float64\n",
      " 16  co2_percentage                   5324 non-null   object \n",
      " 17  scan_date                        5324 non-null   object \n",
      "dtypes: float64(3), int64(2), object(13)\n",
      "memory usage: 790.3+ KB\n"
     ]
    }
   ],
   "source": [
    "data.info()"
   ]
  },
  {
   "cell_type": "code",
   "execution_count": 31,
   "id": "402475b2",
   "metadata": {},
   "outputs": [],
   "source": [
    "\n",
    "# remove the reduced flight data file\n",
    "os.remove(reduced_flight_data_path)\n",
    "\n",
    "# create a new csv file with the cleaned data\n",
    "data.to_csv('../data/NoNullFlightData.csv', index=False)"
   ]
  },
  {
   "cell_type": "code",
   "execution_count": null,
   "id": "1321027f",
   "metadata": {},
   "outputs": [],
   "source": []
  }
 ],
 "metadata": {
  "kernelspec": {
   "display_name": "Python 3",
   "language": "python",
   "name": "python3"
  },
  "language_info": {
   "codemirror_mode": {
    "name": "ipython",
    "version": 3
   },
   "file_extension": ".py",
   "mimetype": "text/x-python",
   "name": "python",
   "nbconvert_exporter": "python",
   "pygments_lexer": "ipython3",
   "version": "3.11.6"
  }
 },
 "nbformat": 4,
 "nbformat_minor": 5
}
