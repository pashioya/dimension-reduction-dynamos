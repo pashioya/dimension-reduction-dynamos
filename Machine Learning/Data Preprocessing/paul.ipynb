{
 "cells": [
  {
   "cell_type": "code",
   "execution_count": 2,
   "outputs": [
    {
     "name": "stdout",
     "output_type": "stream",
     "text": [
      "<class 'pandas.core.frame.DataFrame'>\n",
      "RangeIndex: 998866 entries, 0 to 998865\n",
      "Data columns (total 18 columns):\n",
      " #   Column                           Non-Null Count   Dtype  \n",
      "---  ------                           --------------   -----  \n",
      " 0   from_airport_code                998866 non-null  object \n",
      " 1   from_country                     998866 non-null  object \n",
      " 2   dest_airport_code                998866 non-null  object \n",
      " 3   dest_country                     998866 non-null  object \n",
      " 4   aircraft_type                    984952 non-null  object \n",
      " 5   airline_number                   998866 non-null  object \n",
      " 6   airline_name                     998866 non-null  object \n",
      " 7   flight_number                    998866 non-null  object \n",
      " 8   departure_time                   998866 non-null  object \n",
      " 9   arrival_time                     998866 non-null  object \n",
      " 10  duration                         998866 non-null  int64  \n",
      " 11  stops                            998866 non-null  int64  \n",
      " 12  price                            997513 non-null  float64\n",
      " 13  currency                         998866 non-null  object \n",
      " 14  co2_emissions                    993998 non-null  float64\n",
      " 15  avg_co2_emission_for_this_route  910464 non-null  float64\n",
      " 16  co2_percentage                   910464 non-null  object \n",
      " 17  scan_date                        998866 non-null  object \n",
      "dtypes: float64(3), int64(2), object(13)\n",
      "memory usage: 137.2+ MB\n",
      "None\n"
     ]
    }
   ],
   "source": [
    "import pandas as pd\n",
    "import plotly.express as px\n",
    "\n",
    "data = pd.read_csv('../data/flightData.csv')\n",
    "print(data.info())\n",
    "\n"
   ],
   "metadata": {
    "collapsed": false,
    "ExecuteTime": {
     "end_time": "2023-10-19T16:57:14.450845Z",
     "start_time": "2023-10-19T16:57:10.308201Z"
    }
   },
   "id": "751071c33ee62782"
  },
  {
   "cell_type": "code",
   "execution_count": null,
   "outputs": [],
   "source": [],
   "metadata": {
    "collapsed": false
   },
   "id": "fc9f4821decfab47"
  }
 ],
 "metadata": {
  "kernelspec": {
   "display_name": "Python 3",
   "language": "python",
   "name": "python3"
  },
  "language_info": {
   "codemirror_mode": {
    "name": "ipython",
    "version": 2
   },
   "file_extension": ".py",
   "mimetype": "text/x-python",
   "name": "python",
   "nbconvert_exporter": "python",
   "pygments_lexer": "ipython2",
   "version": "2.7.6"
  }
 },
 "nbformat": 4,
 "nbformat_minor": 5
}
