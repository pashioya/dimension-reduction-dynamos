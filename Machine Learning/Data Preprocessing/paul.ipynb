{
 "cells": [
  {
   "cell_type": "code",
   "execution_count": 12,
   "id": "751071c33ee62782",
   "metadata": {
    "ExecuteTime": {
     "end_time": "2023-10-19T17:21:28.685746Z",
     "start_time": "2023-10-19T17:21:28.632536Z"
    },
    "collapsed": false
   },
   "outputs": [],
   "source": [
    "import pandas as pd\n",
    "import os\n",
    "\n",
    "data = pd.read_csv('../data/FlightData.csv')\n"
   ]
  },
  {
   "cell_type": "code",
   "execution_count": 13,
   "id": "fc9f4821decfab47",
   "metadata": {
    "ExecuteTime": {
     "end_time": "2023-10-19T17:19:36.686824Z",
     "start_time": "2023-10-19T17:19:36.665527Z"
    },
    "collapsed": false
   },
   "outputs": [
    {
     "name": "stdout",
     "output_type": "stream",
     "text": [
      "Copied 6000 random rows from ../data/FlightData.csv to ../data/ReducedFlightData.csv\n"
     ]
    }
   ],
   "source": [
    "import random\n",
    "import csv\n",
    "\n",
    "input_file_path = '../data/FlightData.csv'\n",
    "output_file_path = '../data/ReducedFlightData.csv'\n",
    "\n",
    "# create a file named 'ReduceFlightData.csv' in the same folder as this script\n",
    "os.makedirs(os.path.dirname(output_file_path), exist_ok=True)\n",
    "\n",
    "rows_to_copy = 6000\n",
    "\n",
    "with open(input_file_path, 'r') as input_file, open(output_file_path, 'w', newline='') as output_file:\n",
    "    csv_reader = csv.reader(input_file)\n",
    "    csv_writer = csv.writer(output_file)\n",
    "\n",
    "    header = next(csv_reader)\n",
    "    csv_writer.writerow(header)\n",
    "\n",
    "    all_rows = list(csv_reader)\n",
    "\n",
    "\n",
    "    rows_to_copy = min(rows_to_copy, len(all_rows))\n",
    "\n",
    "    random_rows = random.sample(all_rows, rows_to_copy)\n",
    "    for row in random_rows:\n",
    "        csv_writer.writerow(row)\n",
    "\n",
    "print(f'Copied {rows_to_copy} random rows from {input_file_path} to {output_file_path}')\n"
   ]
  }
 ],
 "metadata": {
  "kernelspec": {
   "display_name": "Python 3",
   "language": "python",
   "name": "python3"
  },
  "language_info": {
   "codemirror_mode": {
    "name": "ipython",
    "version": 3
   },
   "file_extension": ".py",
   "mimetype": "text/x-python",
   "name": "python",
   "nbconvert_exporter": "python",
   "pygments_lexer": "ipython3",
   "version": "3.11.6"
  }
 },
 "nbformat": 4,
 "nbformat_minor": 5
}
