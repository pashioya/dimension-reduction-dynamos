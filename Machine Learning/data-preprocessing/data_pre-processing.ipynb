{
 "cells": [
  {
   "cell_type": "code",
   "execution_count": 31,
   "id": "751071c33ee62782",
   "metadata": {
    "ExecuteTime": {
     "end_time": "2023-10-19T17:21:28.685746Z",
     "start_time": "2023-10-19T17:21:28.632536Z"
    },
    "collapsed": false
   },
   "outputs": [],
   "source": [
    "import pandas as pd\n",
    "import os\n",
    "import random\n",
    "import csv\n",
    "import plotly.express as px"
   ]
  },
  {
   "cell_type": "code",
   "execution_count": 32,
   "id": "fc9f4821decfab47",
   "metadata": {
    "ExecuteTime": {
     "end_time": "2023-10-19T17:19:36.686824Z",
     "start_time": "2023-10-19T17:19:36.665527Z"
    },
    "collapsed": false
   },
   "outputs": [
    {
     "name": "stdout",
     "output_type": "stream",
     "text": [
      "Copied 6000 random rows from ../data/FlightData.csv to ../data/ReducedFlightData.csv\n"
     ]
    }
   ],
   "source": [
    "# Take the large dataset and create a smaller subset of it.\n",
    "\n",
    "input_file_path = '../data/FlightData.csv'\n",
    "reduced_flight_data_path = '../data/ReducedFlightData.csv'\n",
    "\n",
    "if os.path.exists(reduced_flight_data_path):\n",
    "    os.remove(reduced_flight_data_path)\n",
    "\n",
    "# choose how many rows to copy\n",
    "rows_to_copy = 6000\n",
    "\n",
    "# Method 1: using csv reader and writer\n",
    "\n",
    "with open(input_file_path, 'r') as input_file, open(reduced_flight_data_path, 'w', newline='') as output_file:\n",
    "    csv_reader = csv.reader(input_file)\n",
    "    csv_writer = csv.writer(output_file)\n",
    "\n",
    "    header = next(csv_reader)\n",
    "    csv_writer.writerow(header)\n",
    "\n",
    "    all_rows = list(csv_reader)\n",
    "\n",
    "    rows_to_copy = min(rows_to_copy, len(all_rows))\n",
    "\n",
    "    random_rows = random.sample(all_rows, rows_to_copy)\n",
    "    for row in random_rows:\n",
    "        csv_writer.writerow(row)\n",
    "\n",
    "# Method 2: using pandas sample(VERY SLOW)\n",
    "# pd.DataFrame.sample(\n",
    "#     pd.read_csv(input_file_path),\n",
    "#     n=6000,\n",
    "#     random_state=42\n",
    "# ).to_csv(reduced_flight_data_path, index=False)\n",
    "\n",
    "\n",
    "print(f'Copied {rows_to_copy} random rows from {input_file_path} to {reduced_flight_data_path}')\n",
    "\n"
   ]
  },
  {
   "cell_type": "code",
   "execution_count": 33,
   "id": "2f3e601b",
   "metadata": {},
   "outputs": [
    {
     "name": "stdout",
     "output_type": "stream",
     "text": [
      "<class 'pandas.core.frame.DataFrame'>\n",
      "RangeIndex: 6000 entries, 0 to 5999\n",
      "Data columns (total 18 columns):\n",
      " #   Column                           Non-Null Count  Dtype  \n",
      "---  ------                           --------------  -----  \n",
      " 0   from_airport_code                6000 non-null   object \n",
      " 1   from_country                     6000 non-null   object \n",
      " 2   dest_airport_code                6000 non-null   object \n",
      " 3   dest_country                     6000 non-null   object \n",
      " 4   aircraft_type                    5904 non-null   object \n",
      " 5   airline_number                   6000 non-null   object \n",
      " 6   airline_name                     6000 non-null   object \n",
      " 7   flight_number                    6000 non-null   object \n",
      " 8   departure_time                   6000 non-null   object \n",
      " 9   arrival_time                     6000 non-null   object \n",
      " 10  duration                         6000 non-null   int64  \n",
      " 11  stops                            6000 non-null   int64  \n",
      " 12  price                            5995 non-null   float64\n",
      " 13  currency                         6000 non-null   object \n",
      " 14  co2_emissions                    5961 non-null   float64\n",
      " 15  avg_co2_emission_for_this_route  5473 non-null   float64\n",
      " 16  co2_percentage                   5473 non-null   object \n",
      " 17  scan_date                        6000 non-null   object \n",
      "dtypes: float64(3), int64(2), object(13)\n",
      "memory usage: 843.9+ KB\n"
     ]
    }
   ],
   "source": [
    "# get the large dataset \n",
    "data = pd.read_csv('../data/ReducedFlightData.csv')\n",
    "data.info()\n"
   ]
  },
  {
   "cell_type": "code",
   "execution_count": 34,
   "id": "f5f9e696",
   "metadata": {},
   "outputs": [],
   "source": [
    "# Handle missing values on the 'aircraft_type' column\n",
    "\n",
    "# Method 1: Delete rows with missing values on this column\n",
    "\n",
    "data = data.dropna(subset=['aircraft_type'])"
   ]
  },
  {
   "cell_type": "code",
   "execution_count": 35,
   "id": "159744de",
   "metadata": {},
   "outputs": [],
   "source": [
    "# Handle missing values on the 'price' column\n",
    "\n",
    "# Method 1: Delete rows with missing values on this column\n",
    "data = data.dropna(subset=['price'])"
   ]
  },
  {
   "cell_type": "code",
   "execution_count": 36,
   "id": "44bfb040",
   "metadata": {},
   "outputs": [],
   "source": [
    "# Handle missing values on the 'co2_emissions' column\n",
    "\n",
    "# Method 1: Delete rows with missing values on this column\n",
    "data = data.dropna(subset=['co2_emissions'])"
   ]
  },
  {
   "cell_type": "code",
   "execution_count": 37,
   "id": "618c2a18",
   "metadata": {},
   "outputs": [],
   "source": [
    "# Handle missing values on the 'avg_co2_emission_for_this_route' column\n",
    "\n",
    "# Method 1: Delete rows with missing values on this column\n",
    "data = data.dropna(subset=['avg_co2_emission_for_this_route'])\n"
   ]
  },
  {
   "cell_type": "code",
   "execution_count": 38,
   "id": "7e4b6eed",
   "metadata": {},
   "outputs": [],
   "source": [
    "# Handle missing values on the 'co2_percentage' column\n",
    "\n",
    "# Method 1: Delete rows with missing values on this column\n",
    "data = data.dropna(subset=['co2_percentage'])"
   ]
  },
  {
   "cell_type": "code",
   "execution_count": 39,
   "id": "7a2c66f1",
   "metadata": {},
   "outputs": [],
   "source": [
    "# Fix the data types of the columns\n",
    "\n",
    "# Set the date columns to the correct data type\n",
    "data[['departure_time', 'arrival_time','scan_date']] = data[['departure_time', 'arrival_time','scan_date']].apply(pd.to_datetime)\n",
    "\n",
    "# set the categorical columns to the correct data type\n",
    "data[['from_airport_code', 'dest_airport_code', 'from_country','dest_country','aircraft_type','airline_number','airline_name','flight_number']] = data[['from_airport_code', 'dest_airport_code', 'from_country','dest_country','aircraft_type','airline_number','airline_name','flight_number']].astype('category')\n",
    "\n",
    "# set the numeric columns to the correct data type\n",
    "data['co2_percentage'] = data['co2_percentage'].str.replace('%', '').astype('float64')\n"
   ]
  },
  {
   "cell_type": "code",
   "execution_count": 40,
   "metadata": {},
   "outputs": [],
   "source": [
    "# Select relevant features and target variable\n",
    "# drop the irrelevant column\n",
    "data.drop(['departure_time','flight_number','arrival_time','scan_date','currency','co2_emissions','avg_co2_emission_for_this_route','co2_percentage'], axis=1, inplace=True)"
   ]
  },
  {
   "cell_type": "code",
   "execution_count": 41,
   "id": "c9e381b3",
   "metadata": {},
   "outputs": [
    {
     "name": "stdout",
     "output_type": "stream",
     "text": [
      "<class 'pandas.core.frame.DataFrame'>\n",
      "Index: 5344 entries, 0 to 5998\n",
      "Data columns (total 10 columns):\n",
      " #   Column             Non-Null Count  Dtype   \n",
      "---  ------             --------------  -----   \n",
      " 0   from_airport_code  5344 non-null   category\n",
      " 1   from_country       5344 non-null   category\n",
      " 2   dest_airport_code  5344 non-null   category\n",
      " 3   dest_country       5344 non-null   category\n",
      " 4   aircraft_type      5344 non-null   category\n",
      " 5   airline_number     5344 non-null   category\n",
      " 6   airline_name       5344 non-null   category\n",
      " 7   duration           5344 non-null   int64   \n",
      " 8   stops              5344 non-null   int64   \n",
      " 9   price              5344 non-null   float64 \n",
      "dtypes: category(7), float64(1), int64(2)\n",
      "memory usage: 347.5 KB\n"
     ]
    }
   ],
   "source": [
    "data.info()"
   ]
  },
  {
   "cell_type": "code",
   "execution_count": 42,
   "id": "402475b2",
   "metadata": {},
   "outputs": [],
   "source": [
    "# Delete the old reduced flight data file and create a new one with the data without missing values\n",
    "\n",
    "no_null_flight_data_path = '../data/PreProcessedFlightData.csv'\n",
    "\n",
    "os.remove(reduced_flight_data_path)\n",
    "\n",
    "if os.path.exists(no_null_flight_data_path):\n",
    "    os.remove(no_null_flight_data_path)\n",
    "    \n",
    "data.to_csv(no_null_flight_data_path, index=False)"
   ]
  },
  {
   "cell_type": "code",
   "execution_count": 43,
   "id": "1321027f",
   "metadata": {},
   "outputs": [
    {
     "data": {
      "text/html": [
       "<div>\n",
       "<style scoped>\n",
       "    .dataframe tbody tr th:only-of-type {\n",
       "        vertical-align: middle;\n",
       "    }\n",
       "\n",
       "    .dataframe tbody tr th {\n",
       "        vertical-align: top;\n",
       "    }\n",
       "\n",
       "    .dataframe thead th {\n",
       "        text-align: right;\n",
       "    }\n",
       "</style>\n",
       "<table border=\"1\" class=\"dataframe\">\n",
       "  <thead>\n",
       "    <tr style=\"text-align: right;\">\n",
       "      <th></th>\n",
       "      <th>from_airport_code</th>\n",
       "      <th>from_country</th>\n",
       "      <th>dest_airport_code</th>\n",
       "      <th>dest_country</th>\n",
       "      <th>aircraft_type</th>\n",
       "      <th>airline_number</th>\n",
       "      <th>airline_name</th>\n",
       "      <th>duration</th>\n",
       "      <th>stops</th>\n",
       "      <th>price</th>\n",
       "    </tr>\n",
       "  </thead>\n",
       "  <tbody>\n",
       "    <tr>\n",
       "      <th>0</th>\n",
       "      <td>VIE</td>\n",
       "      <td>Austria</td>\n",
       "      <td>ATH</td>\n",
       "      <td>Greece</td>\n",
       "      <td>Airbus A321|Airbus A320neo</td>\n",
       "      <td>multi</td>\n",
       "      <td>[Austrian| SAS]</td>\n",
       "      <td>1700</td>\n",
       "      <td>1</td>\n",
       "      <td>347.0</td>\n",
       "    </tr>\n",
       "    <tr>\n",
       "      <th>1</th>\n",
       "      <td>BOG</td>\n",
       "      <td>Columbia</td>\n",
       "      <td>LGW</td>\n",
       "      <td>United Kingdom</td>\n",
       "      <td>Airbus A319|Boeing 737|Boeing 777</td>\n",
       "      <td>multi</td>\n",
       "      <td>[American| British Airways]</td>\n",
       "      <td>1535</td>\n",
       "      <td>2</td>\n",
       "      <td>1838.0</td>\n",
       "    </tr>\n",
       "    <tr>\n",
       "      <th>2</th>\n",
       "      <td>BOG</td>\n",
       "      <td>Columbia</td>\n",
       "      <td>MIA</td>\n",
       "      <td>United States</td>\n",
       "      <td>Airbus A320|Boeing 737MAX 9 Passenger</td>\n",
       "      <td>multi</td>\n",
       "      <td>[Avianca| COPA]</td>\n",
       "      <td>790</td>\n",
       "      <td>1</td>\n",
       "      <td>366.0</td>\n",
       "    </tr>\n",
       "    <tr>\n",
       "      <th>3</th>\n",
       "      <td>PVG</td>\n",
       "      <td>China</td>\n",
       "      <td>CDG</td>\n",
       "      <td>France</td>\n",
       "      <td>Airbus A330|Airbus A350|Airbus A319</td>\n",
       "      <td>multi</td>\n",
       "      <td>[Cathay Pacific| British Airways]</td>\n",
       "      <td>1790</td>\n",
       "      <td>2</td>\n",
       "      <td>2940.0</td>\n",
       "    </tr>\n",
       "    <tr>\n",
       "      <th>4</th>\n",
       "      <td>ATH</td>\n",
       "      <td>Greece</td>\n",
       "      <td>LHR</td>\n",
       "      <td>United Kingdom</td>\n",
       "      <td>Airbus A320|Airbus A320neo</td>\n",
       "      <td>LH</td>\n",
       "      <td>[Lufthansa]</td>\n",
       "      <td>375</td>\n",
       "      <td>1</td>\n",
       "      <td>519.0</td>\n",
       "    </tr>\n",
       "  </tbody>\n",
       "</table>\n",
       "</div>"
      ],
      "text/plain": [
       "  from_airport_code from_country dest_airport_code    dest_country  \\\n",
       "0               VIE      Austria               ATH          Greece   \n",
       "1               BOG     Columbia               LGW  United Kingdom   \n",
       "2               BOG     Columbia               MIA   United States   \n",
       "3               PVG        China               CDG          France   \n",
       "4               ATH       Greece               LHR  United Kingdom   \n",
       "\n",
       "                           aircraft_type airline_number  \\\n",
       "0             Airbus A321|Airbus A320neo          multi   \n",
       "1      Airbus A319|Boeing 737|Boeing 777          multi   \n",
       "2  Airbus A320|Boeing 737MAX 9 Passenger          multi   \n",
       "3    Airbus A330|Airbus A350|Airbus A319          multi   \n",
       "4             Airbus A320|Airbus A320neo             LH   \n",
       "\n",
       "                        airline_name  duration  stops   price  \n",
       "0                    [Austrian| SAS]      1700      1   347.0  \n",
       "1        [American| British Airways]      1535      2  1838.0  \n",
       "2                    [Avianca| COPA]       790      1   366.0  \n",
       "3  [Cathay Pacific| British Airways]      1790      2  2940.0  \n",
       "4                        [Lufthansa]       375      1   519.0  "
      ]
     },
     "execution_count": 43,
     "metadata": {},
     "output_type": "execute_result"
    }
   ],
   "source": [
    "data.head()"
   ]
  },
  {
   "cell_type": "code",
   "execution_count": 44,
   "id": "25565f99",
   "metadata": {},
   "outputs": [
    {
     "data": {
      "text/html": [
       "<div>\n",
       "<style scoped>\n",
       "    .dataframe tbody tr th:only-of-type {\n",
       "        vertical-align: middle;\n",
       "    }\n",
       "\n",
       "    .dataframe tbody tr th {\n",
       "        vertical-align: top;\n",
       "    }\n",
       "\n",
       "    .dataframe thead th {\n",
       "        text-align: right;\n",
       "    }\n",
       "</style>\n",
       "<table border=\"1\" class=\"dataframe\">\n",
       "  <thead>\n",
       "    <tr style=\"text-align: right;\">\n",
       "      <th></th>\n",
       "      <th>duration</th>\n",
       "      <th>stops</th>\n",
       "      <th>price</th>\n",
       "    </tr>\n",
       "  </thead>\n",
       "  <tbody>\n",
       "    <tr>\n",
       "      <th>count</th>\n",
       "      <td>5344.000000</td>\n",
       "      <td>5344.000000</td>\n",
       "      <td>5344.000000</td>\n",
       "    </tr>\n",
       "    <tr>\n",
       "      <th>mean</th>\n",
       "      <td>1432.268525</td>\n",
       "      <td>1.641467</td>\n",
       "      <td>1715.601048</td>\n",
       "    </tr>\n",
       "    <tr>\n",
       "      <th>std</th>\n",
       "      <td>678.980227</td>\n",
       "      <td>0.647350</td>\n",
       "      <td>1849.645611</td>\n",
       "    </tr>\n",
       "    <tr>\n",
       "      <th>min</th>\n",
       "      <td>55.000000</td>\n",
       "      <td>0.000000</td>\n",
       "      <td>45.000000</td>\n",
       "    </tr>\n",
       "    <tr>\n",
       "      <th>25%</th>\n",
       "      <td>965.000000</td>\n",
       "      <td>1.000000</td>\n",
       "      <td>633.000000</td>\n",
       "    </tr>\n",
       "    <tr>\n",
       "      <th>50%</th>\n",
       "      <td>1370.000000</td>\n",
       "      <td>2.000000</td>\n",
       "      <td>1203.000000</td>\n",
       "    </tr>\n",
       "    <tr>\n",
       "      <th>75%</th>\n",
       "      <td>1830.000000</td>\n",
       "      <td>2.000000</td>\n",
       "      <td>2098.500000</td>\n",
       "    </tr>\n",
       "    <tr>\n",
       "      <th>max</th>\n",
       "      <td>6095.000000</td>\n",
       "      <td>6.000000</td>\n",
       "      <td>19367.000000</td>\n",
       "    </tr>\n",
       "  </tbody>\n",
       "</table>\n",
       "</div>"
      ],
      "text/plain": [
       "          duration        stops         price\n",
       "count  5344.000000  5344.000000   5344.000000\n",
       "mean   1432.268525     1.641467   1715.601048\n",
       "std     678.980227     0.647350   1849.645611\n",
       "min      55.000000     0.000000     45.000000\n",
       "25%     965.000000     1.000000    633.000000\n",
       "50%    1370.000000     2.000000   1203.000000\n",
       "75%    1830.000000     2.000000   2098.500000\n",
       "max    6095.000000     6.000000  19367.000000"
      ]
     },
     "execution_count": 44,
     "metadata": {},
     "output_type": "execute_result"
    }
   ],
   "source": [
    "data.describe()"
   ]
  },
  {
   "cell_type": "code",
   "execution_count": 45,
   "id": "66b47ce4",
   "metadata": {},
   "outputs": [
    {
     "name": "stdout",
     "output_type": "stream",
     "text": [
      "<class 'pandas.core.frame.DataFrame'>\n",
      "Index: 5344 entries, 0 to 5998\n",
      "Data columns (total 10 columns):\n",
      " #   Column             Non-Null Count  Dtype   \n",
      "---  ------             --------------  -----   \n",
      " 0   from_airport_code  5344 non-null   category\n",
      " 1   from_country       5344 non-null   category\n",
      " 2   dest_airport_code  5344 non-null   category\n",
      " 3   dest_country       5344 non-null   category\n",
      " 4   aircraft_type      5344 non-null   category\n",
      " 5   airline_number     5344 non-null   category\n",
      " 6   airline_name       5344 non-null   category\n",
      " 7   duration           5344 non-null   int64   \n",
      " 8   stops              5344 non-null   int64   \n",
      " 9   price              5344 non-null   float64 \n",
      "dtypes: category(7), float64(1), int64(2)\n",
      "memory usage: 347.5 KB\n"
     ]
    }
   ],
   "source": [
    "data.info()"
   ]
  }
 ],
 "metadata": {
  "kernelspec": {
   "display_name": "Python 3",
   "language": "python",
   "name": "python3"
  },
  "language_info": {
   "codemirror_mode": {
    "name": "ipython",
    "version": 3
   },
   "file_extension": ".py",
   "mimetype": "text/x-python",
   "name": "python",
   "nbconvert_exporter": "python",
   "pygments_lexer": "ipython3",
   "version": "3.12.0"
  }
 },
 "nbformat": 4,
 "nbformat_minor": 5
}
