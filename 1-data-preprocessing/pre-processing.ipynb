{
 "cells": [
  {
   "cell_type": "code",
   "execution_count": 1,
   "metadata": {},
   "outputs": [],
   "source": [
    "import pandas as pd\n",
    "import os\n",
    "import random\n",
    "import csv\n",
    "import plotly.express as px\n",
    "\n",
    "import warnings\n",
    "warnings.filterwarnings(\"ignore\")"
   ]
  },
  {
   "cell_type": "code",
   "execution_count": 2,
   "metadata": {},
   "outputs": [
    {
     "name": "stdout",
     "output_type": "stream",
     "text": [
      "Copied 6000 random rows from ../data/flight-data.csv to ../data/reduced-flight-Data.csv\n"
     ]
    }
   ],
   "source": [
    "# Take the large dataset and create a smaller subset of it.\n",
    "\n",
    "input_file_path = '../data/flight-data.csv'\n",
    "reduced_flight_data_path = '../data/reduced-flight-Data.csv'\n",
    "\n",
    "if os.path.exists(reduced_flight_data_path):\n",
    "    os.remove(reduced_flight_data_path)\n",
    "\n",
    "# choose how many rows to copy\n",
    "rows_to_copy = 6000\n",
    "\n",
    "# Method 1: using csv reader and writer\n",
    "\n",
    "with open(input_file_path, 'r') as input_file, open(reduced_flight_data_path, 'w', newline='') as output_file:\n",
    "    csv_reader = csv.reader(input_file)\n",
    "    csv_writer = csv.writer(output_file)\n",
    "\n",
    "    header = next(csv_reader)\n",
    "    csv_writer.writerow(header)\n",
    "\n",
    "    all_rows = list(csv_reader)\n",
    "\n",
    "    rows_to_copy = min(rows_to_copy, len(all_rows))\n",
    "\n",
    "    random_rows = random.sample(all_rows, rows_to_copy)\n",
    "    for row in random_rows:\n",
    "        csv_writer.writerow(row)\n",
    "\n",
    "print(f'Copied {rows_to_copy} random rows from {input_file_path} to {reduced_flight_data_path}')"
   ]
  },
  {
   "cell_type": "code",
   "execution_count": 3,
   "metadata": {},
   "outputs": [
    {
     "name": "stdout",
     "output_type": "stream",
     "text": [
      "<class 'pandas.core.frame.DataFrame'>\n",
      "RangeIndex: 6000 entries, 0 to 5999\n",
      "Data columns (total 18 columns):\n",
      " #   Column                           Non-Null Count  Dtype  \n",
      "---  ------                           --------------  -----  \n",
      " 0   from_airport_code                6000 non-null   object \n",
      " 1   from_country                     6000 non-null   object \n",
      " 2   dest_airport_code                6000 non-null   object \n",
      " 3   dest_country                     6000 non-null   object \n",
      " 4   aircraft_type                    5923 non-null   object \n",
      " 5   airline_number                   6000 non-null   object \n",
      " 6   airline_name                     6000 non-null   object \n",
      " 7   flight_number                    6000 non-null   object \n",
      " 8   departure_time                   6000 non-null   object \n",
      " 9   arrival_time                     6000 non-null   object \n",
      " 10  duration                         6000 non-null   int64  \n",
      " 11  stops                            6000 non-null   int64  \n",
      " 12  price                            5987 non-null   float64\n",
      " 13  currency                         6000 non-null   object \n",
      " 14  co2_emissions                    5978 non-null   float64\n",
      " 15  avg_co2_emission_for_this_route  5460 non-null   float64\n",
      " 16  co2_percentage                   5460 non-null   object \n",
      " 17  scan_date                        6000 non-null   object \n",
      "dtypes: float64(3), int64(2), object(13)\n",
      "memory usage: 843.9+ KB\n"
     ]
    }
   ],
   "source": [
    "\n",
    "original_data = pd.read_csv(input_file_path)\n",
    "data = pd.read_csv(reduced_flight_data_path)\n",
    "data.info()"
   ]
  },
  {
   "cell_type": "markdown",
   "metadata": {},
   "source": [
    "## Remove the irrelevant columns\n",
    "We will try to redict the price based on the all the other columns.\n",
    "\n",
    "We will remove the following columns:\n",
    "- departure_time, arrival_time: The type is datetime, and we don't handle datetime columns\n",
    "- currency: The currency doesn't have any effect on the other columns\n",
    "- from_country, dest_country: The country doesn't have any effect on the other columns, and we can find the country from the airport code\n",
    "- flight_number: The flight number doesn't have any effect on the price\n",
    "- scan_date: The scan date doesn't have any effect on the price\n",
    "- co2_emissions: at first sight, co2 emissions don't seem to have an effect on price\n",
    "- co2_percentage: at first sight, co2 percentage don't seem to have an effect on price\n",
    "\n",
    "We will keep the following columns:\n",
    "- from_airport_code and dest_airport_code\n",
    "- aircraft_type\n",
    "- airline_number, airline_name\n",
    "- duration\n",
    "- stops\n",
    "- price\n",
    "- avg_co2_emission_for_this_route"
   ]
  },
  {
   "cell_type": "code",
   "execution_count": 4,
   "metadata": {},
   "outputs": [],
   "source": [
    "data = data.drop(['departure_time', 'arrival_time', 'currency', 'from_country', 'dest_country', 'flight_number', 'scan_date', 'co2_emissions', 'co2_percentage','avg_co2_emission_for_this_route'], axis=1)"
   ]
  },
  {
   "cell_type": "markdown",
   "metadata": {},
   "source": [
    "# 4. Fill missing values"
   ]
  },
  {
   "cell_type": "code",
   "execution_count": 5,
   "metadata": {},
   "outputs": [
    {
     "data": {
      "text/html": [
       "<div>\n",
       "<style scoped>\n",
       "    .dataframe tbody tr th:only-of-type {\n",
       "        vertical-align: middle;\n",
       "    }\n",
       "\n",
       "    .dataframe tbody tr th {\n",
       "        vertical-align: top;\n",
       "    }\n",
       "\n",
       "    .dataframe thead th {\n",
       "        text-align: right;\n",
       "    }\n",
       "</style>\n",
       "<table border=\"1\" class=\"dataframe\">\n",
       "  <thead>\n",
       "    <tr style=\"text-align: right;\">\n",
       "      <th></th>\n",
       "      <th>Na amount</th>\n",
       "      <th>Na percentage</th>\n",
       "    </tr>\n",
       "  </thead>\n",
       "  <tbody>\n",
       "    <tr>\n",
       "      <th>from_airport_code</th>\n",
       "      <td>0</td>\n",
       "      <td>0.000000</td>\n",
       "    </tr>\n",
       "    <tr>\n",
       "      <th>dest_airport_code</th>\n",
       "      <td>0</td>\n",
       "      <td>0.000000</td>\n",
       "    </tr>\n",
       "    <tr>\n",
       "      <th>aircraft_type</th>\n",
       "      <td>77</td>\n",
       "      <td>1.283333</td>\n",
       "    </tr>\n",
       "    <tr>\n",
       "      <th>airline_number</th>\n",
       "      <td>0</td>\n",
       "      <td>0.000000</td>\n",
       "    </tr>\n",
       "    <tr>\n",
       "      <th>airline_name</th>\n",
       "      <td>0</td>\n",
       "      <td>0.000000</td>\n",
       "    </tr>\n",
       "    <tr>\n",
       "      <th>duration</th>\n",
       "      <td>0</td>\n",
       "      <td>0.000000</td>\n",
       "    </tr>\n",
       "    <tr>\n",
       "      <th>stops</th>\n",
       "      <td>0</td>\n",
       "      <td>0.000000</td>\n",
       "    </tr>\n",
       "    <tr>\n",
       "      <th>price</th>\n",
       "      <td>13</td>\n",
       "      <td>0.216667</td>\n",
       "    </tr>\n",
       "  </tbody>\n",
       "</table>\n",
       "</div>"
      ],
      "text/plain": [
       "                   Na amount  Na percentage\n",
       "from_airport_code          0       0.000000\n",
       "dest_airport_code          0       0.000000\n",
       "aircraft_type             77       1.283333\n",
       "airline_number             0       0.000000\n",
       "airline_name               0       0.000000\n",
       "duration                   0       0.000000\n",
       "stops                      0       0.000000\n",
       "price                     13       0.216667"
      ]
     },
     "execution_count": 5,
     "metadata": {},
     "output_type": "execute_result"
    }
   ],
   "source": [
    "pd.DataFrame({\n",
    "    'Na amount': data.isna().sum(),\n",
    "    'Na percentage': data.isna().sum()/data.shape[0]*100    \n",
    "})"
   ]
  },
  {
   "cell_type": "markdown",
   "metadata": {},
   "source": [
    "Here are all the columns with missing values and the way we will fill them:\n",
    "\n",
    "| Column | Strategy | |\n",
    "| :-- | :-: | :-- | \n",
    "| Aircraft Type | we can fill the missing values with the most common aircraft type for the given route, airline and number of stops, if the route is unique drop the row |\n",
    "| Price | we drop these since they are needed for modeling  | |"
   ]
  },
  {
   "cell_type": "code",
   "execution_count": 6,
   "metadata": {},
   "outputs": [],
   "source": [
    "for i, row in data[data['aircraft_type'].isnull()].iterrows():\n",
    "    subset = data[(data['from_airport_code'] == row['from_airport_code']) & \n",
    "              (data['dest_airport_code'] == row['dest_airport_code']) & \n",
    "              (data['stops'] == row['stops']) &\n",
    "              (data['airline_number'] == row['airline_number'])]\n",
    "\n",
    "    if subset['aircraft_type'].isnull().sum() != subset.shape[0]:\n",
    "        most_common_aircraft_type = subset['aircraft_type'].value_counts().idxmax()\n",
    "        data.loc[i, 'aircraft_type'] = most_common_aircraft_type\n",
    "        \n",
    "        \n",
    "data = data.dropna()"
   ]
  },
  {
   "cell_type": "code",
   "execution_count": 7,
   "metadata": {},
   "outputs": [
    {
     "data": {
      "text/html": [
       "<div>\n",
       "<style scoped>\n",
       "    .dataframe tbody tr th:only-of-type {\n",
       "        vertical-align: middle;\n",
       "    }\n",
       "\n",
       "    .dataframe tbody tr th {\n",
       "        vertical-align: top;\n",
       "    }\n",
       "\n",
       "    .dataframe thead th {\n",
       "        text-align: right;\n",
       "    }\n",
       "</style>\n",
       "<table border=\"1\" class=\"dataframe\">\n",
       "  <thead>\n",
       "    <tr style=\"text-align: right;\">\n",
       "      <th></th>\n",
       "      <th>Na amount</th>\n",
       "      <th>Na percentage</th>\n",
       "    </tr>\n",
       "  </thead>\n",
       "  <tbody>\n",
       "    <tr>\n",
       "      <th>from_airport_code</th>\n",
       "      <td>0</td>\n",
       "      <td>0.0</td>\n",
       "    </tr>\n",
       "    <tr>\n",
       "      <th>dest_airport_code</th>\n",
       "      <td>0</td>\n",
       "      <td>0.0</td>\n",
       "    </tr>\n",
       "    <tr>\n",
       "      <th>aircraft_type</th>\n",
       "      <td>0</td>\n",
       "      <td>0.0</td>\n",
       "    </tr>\n",
       "    <tr>\n",
       "      <th>airline_number</th>\n",
       "      <td>0</td>\n",
       "      <td>0.0</td>\n",
       "    </tr>\n",
       "    <tr>\n",
       "      <th>airline_name</th>\n",
       "      <td>0</td>\n",
       "      <td>0.0</td>\n",
       "    </tr>\n",
       "    <tr>\n",
       "      <th>duration</th>\n",
       "      <td>0</td>\n",
       "      <td>0.0</td>\n",
       "    </tr>\n",
       "    <tr>\n",
       "      <th>stops</th>\n",
       "      <td>0</td>\n",
       "      <td>0.0</td>\n",
       "    </tr>\n",
       "    <tr>\n",
       "      <th>price</th>\n",
       "      <td>0</td>\n",
       "      <td>0.0</td>\n",
       "    </tr>\n",
       "  </tbody>\n",
       "</table>\n",
       "</div>"
      ],
      "text/plain": [
       "                   Na amount  Na percentage\n",
       "from_airport_code          0            0.0\n",
       "dest_airport_code          0            0.0\n",
       "aircraft_type              0            0.0\n",
       "airline_number             0            0.0\n",
       "airline_name               0            0.0\n",
       "duration                   0            0.0\n",
       "stops                      0            0.0\n",
       "price                      0            0.0"
      ]
     },
     "execution_count": 7,
     "metadata": {},
     "output_type": "execute_result"
    }
   ],
   "source": [
    "pd.DataFrame({\n",
    "    'Na amount': data.isna().sum(),\n",
    "    'Na percentage': data.isna().sum()/data.shape[0]*100    \n",
    "})"
   ]
  },
  {
   "cell_type": "code",
   "execution_count": 8,
   "metadata": {},
   "outputs": [
    {
     "name": "stdout",
     "output_type": "stream",
     "text": [
      "Deleted 992927 rows of the original data\n"
     ]
    }
   ],
   "source": [
    "\n",
    "deleted_rows = original_data.shape[0] - data.shape[0]\n",
    "print(f'Deleted {deleted_rows} rows of the original data')"
   ]
  },
  {
   "cell_type": "markdown",
   "metadata": {},
   "source": [
    "## Fix the data types of the columns"
   ]
  },
  {
   "cell_type": "code",
   "execution_count": 9,
   "metadata": {},
   "outputs": [],
   "source": [
    "data[['from_airport_code', 'dest_airport_code','aircraft_type','airline_number', 'airline_name']] = data[['from_airport_code', 'dest_airport_code','aircraft_type','airline_number', 'airline_name']].astype('category')"
   ]
  },
  {
   "cell_type": "code",
   "execution_count": 10,
   "metadata": {},
   "outputs": [
    {
     "name": "stdout",
     "output_type": "stream",
     "text": [
      "<class 'pandas.core.frame.DataFrame'>\n",
      "Index: 5939 entries, 0 to 5999\n",
      "Data columns (total 8 columns):\n",
      " #   Column             Non-Null Count  Dtype   \n",
      "---  ------             --------------  -----   \n",
      " 0   from_airport_code  5939 non-null   category\n",
      " 1   dest_airport_code  5939 non-null   category\n",
      " 2   aircraft_type      5939 non-null   category\n",
      " 3   airline_number     5939 non-null   category\n",
      " 4   airline_name       5939 non-null   category\n",
      " 5   duration           5939 non-null   int64   \n",
      " 6   stops              5939 non-null   int64   \n",
      " 7   price              5939 non-null   float64 \n",
      "dtypes: category(5), float64(1), int64(2)\n",
      "memory usage: 360.2 KB\n"
     ]
    }
   ],
   "source": [
    "data.info()"
   ]
  },
  {
   "cell_type": "code",
   "execution_count": 11,
   "metadata": {},
   "outputs": [
    {
     "data": {
      "text/html": [
       "<div>\n",
       "<style scoped>\n",
       "    .dataframe tbody tr th:only-of-type {\n",
       "        vertical-align: middle;\n",
       "    }\n",
       "\n",
       "    .dataframe tbody tr th {\n",
       "        vertical-align: top;\n",
       "    }\n",
       "\n",
       "    .dataframe thead th {\n",
       "        text-align: right;\n",
       "    }\n",
       "</style>\n",
       "<table border=\"1\" class=\"dataframe\">\n",
       "  <thead>\n",
       "    <tr style=\"text-align: right;\">\n",
       "      <th></th>\n",
       "      <th>from_airport_code</th>\n",
       "      <th>dest_airport_code</th>\n",
       "      <th>aircraft_type</th>\n",
       "      <th>airline_number</th>\n",
       "      <th>airline_name</th>\n",
       "      <th>duration</th>\n",
       "      <th>stops</th>\n",
       "      <th>price</th>\n",
       "    </tr>\n",
       "  </thead>\n",
       "  <tbody>\n",
       "    <tr>\n",
       "      <th>0</th>\n",
       "      <td>13</td>\n",
       "      <td>70</td>\n",
       "      <td>865</td>\n",
       "      <td>20</td>\n",
       "      <td>502</td>\n",
       "      <td>2145</td>\n",
       "      <td>2</td>\n",
       "      <td>1952.0</td>\n",
       "    </tr>\n",
       "    <tr>\n",
       "      <th>1</th>\n",
       "      <td>5</td>\n",
       "      <td>52</td>\n",
       "      <td>1879</td>\n",
       "      <td>43</td>\n",
       "      <td>813</td>\n",
       "      <td>730</td>\n",
       "      <td>1</td>\n",
       "      <td>825.0</td>\n",
       "    </tr>\n",
       "    <tr>\n",
       "      <th>2</th>\n",
       "      <td>12</td>\n",
       "      <td>30</td>\n",
       "      <td>707</td>\n",
       "      <td>70</td>\n",
       "      <td>1269</td>\n",
       "      <td>565</td>\n",
       "      <td>1</td>\n",
       "      <td>637.0</td>\n",
       "    </tr>\n",
       "    <tr>\n",
       "      <th>3</th>\n",
       "      <td>23</td>\n",
       "      <td>74</td>\n",
       "      <td>1066</td>\n",
       "      <td>83</td>\n",
       "      <td>784</td>\n",
       "      <td>1275</td>\n",
       "      <td>2</td>\n",
       "      <td>2747.0</td>\n",
       "    </tr>\n",
       "    <tr>\n",
       "      <th>4</th>\n",
       "      <td>4</td>\n",
       "      <td>70</td>\n",
       "      <td>1609</td>\n",
       "      <td>83</td>\n",
       "      <td>405</td>\n",
       "      <td>2036</td>\n",
       "      <td>3</td>\n",
       "      <td>1604.0</td>\n",
       "    </tr>\n",
       "  </tbody>\n",
       "</table>\n",
       "</div>"
      ],
      "text/plain": [
       "   from_airport_code  dest_airport_code  aircraft_type  airline_number  \\\n",
       "0                 13                 70            865              20   \n",
       "1                  5                 52           1879              43   \n",
       "2                 12                 30            707              70   \n",
       "3                 23                 74           1066              83   \n",
       "4                  4                 70           1609              83   \n",
       "\n",
       "   airline_name  duration  stops   price  \n",
       "0           502      2145      2  1952.0  \n",
       "1           813       730      1   825.0  \n",
       "2          1269       565      1   637.0  \n",
       "3           784      1275      2  2747.0  \n",
       "4           405      2036      3  1604.0  "
      ]
     },
     "execution_count": 11,
     "metadata": {},
     "output_type": "execute_result"
    }
   ],
   "source": [
    "from sklearn.preprocessing import LabelEncoder\n",
    "\n",
    "label_encoder = LabelEncoder()\n",
    "\n",
    "data['from_airport_code'] = label_encoder.fit_transform(data['from_airport_code'])\n",
    "data['dest_airport_code'] = label_encoder.fit_transform(data['dest_airport_code'])\n",
    "data['aircraft_type'] = label_encoder.fit_transform(data['aircraft_type'])\n",
    "data['airline_number'] = label_encoder.fit_transform(data['airline_number'])\n",
    "data['airline_name'] = label_encoder.fit_transform(data['airline_name'])\n",
    "\n",
    "data['from_airport_code'] = label_encoder.fit_transform(data['from_airport_code'])\n",
    "data['dest_airport_code'] = label_encoder.fit_transform(data['dest_airport_code'])\n",
    "data['aircraft_type'] = label_encoder.fit_transform(data['aircraft_type'])\n",
    "data['airline_number'] = label_encoder.fit_transform(data['airline_number'])\n",
    "data['airline_name'] = label_encoder.fit_transform(data['airline_name'])\n",
    "\n",
    "data.head()"
   ]
  },
  {
   "cell_type": "code",
   "execution_count": 12,
   "metadata": {},
   "outputs": [],
   "source": [
    "data.to_csv('../data/processed-flight-data.csv', index=False)"
   ]
  }
 ],
 "metadata": {
  "kernelspec": {
   "display_name": ".venv",
   "language": "python",
   "name": "python3"
  },
  "language_info": {
   "codemirror_mode": {
    "name": "ipython",
    "version": 3
   },
   "file_extension": ".py",
   "mimetype": "text/x-python",
   "name": "python",
   "nbconvert_exporter": "python",
   "pygments_lexer": "ipython3",
   "version": "3.11.7"
  }
 },
 "nbformat": 4,
 "nbformat_minor": 2
}
